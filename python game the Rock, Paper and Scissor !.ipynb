{
 "cells": [
  {
   "cell_type": "code",
   "execution_count": 1,
   "metadata": {},
   "outputs": [
    {
     "name": "stdout",
     "output_type": "stream",
     "text": [
      "Welcome to the Rock, Paper, Scissor Game!\n",
      "please enter your choice from Rock, Paper, Scissor (player one) Paper\n",
      "please enter your choice from Rock, Paper, Scissor (player two) Rock\n",
      "Player One wins!\n"
     ]
    }
   ],
   "source": [
    "print('Welcome to the Rock, Paper, Scissor Game!')\n",
    "player_one = input(\"please enter your choice from Rock, Paper, Scissor (player one) \").title()\n",
    "player_two = input(\"please enter your choice from Rock, Paper, Scissor (player two) \").title()\n",
    "try:\n",
    "    if player_one == player_two:\n",
    "        print(\"no one wins\")\n",
    "    elif (player_one == \"Rock\" and player_two == \"Scissor\") or \\\n",
    "        (player_one == \"Paper\" and player_two == \"Rock\") or \\\n",
    "        (player_one == \"Scissor\" and player_two == \"Paper\"):\n",
    "        print(\"Player One wins!\")\n",
    "    else:\n",
    "        print(\"Player Two wins!\")\n",
    "except:\n",
    "    print(\"wrong input please enter a word from Rock, Paper, Scissor\")"
   ]
  },
  {
   "cell_type": "code",
   "execution_count": null,
   "metadata": {},
   "outputs": [],
   "source": []
  }
 ],
 "metadata": {
  "kernelspec": {
   "display_name": "Python 3",
   "language": "python",
   "name": "python3"
  },
  "language_info": {
   "codemirror_mode": {
    "name": "ipython",
    "version": 3
   },
   "file_extension": ".py",
   "mimetype": "text/x-python",
   "name": "python",
   "nbconvert_exporter": "python",
   "pygments_lexer": "ipython3",
   "version": "3.7.6"
  }
 },
 "nbformat": 4,
 "nbformat_minor": 4
}
